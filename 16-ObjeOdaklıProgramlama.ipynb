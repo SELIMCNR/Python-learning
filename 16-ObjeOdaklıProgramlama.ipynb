{
 "cells": [
  {
   "cell_type": "code",
   "execution_count": 118,
   "metadata": {},
   "outputs": [],
   "source": [
    "benimListem = list()"
   ]
  },
  {
   "cell_type": "code",
   "execution_count": 119,
   "metadata": {},
   "outputs": [
    {
     "data": {
      "text/plain": [
       "list"
      ]
     },
     "execution_count": 119,
     "metadata": {},
     "output_type": "execute_result"
    }
   ],
   "source": [
    "type(benimListem)"
   ]
  },
  {
   "attachments": {},
   "cell_type": "markdown",
   "metadata": {},
   "source": [
    "## instance sınıfın örneği objesi & attribute sınıf içerisindeki özellikler metotlardı.\n"
   ]
  },
  {
   "cell_type": "markdown",
   "metadata": {},
   "source": []
  },
  {
   "cell_type": "code",
   "execution_count": 120,
   "metadata": {},
   "outputs": [],
   "source": [
    "class  SuperKahraman():\n ",
    "\n",
    "    ozelGuc=\"Gorunmezlik\"   #method dışında özellik tanımı\n",
    "\n",
    "    def __init__(self,isimInput,yasInput,meslekInput) :    #özel metot başlatma metodu  self kendi demek \n",
    "        print(\"init çağrıldı\")\n",
    "        self.isim = isimInput\n",
    "        self.yas = yasInput \n",
    "        self.meslek = meslekInput\n",
    "        \n",
    "    def ornekMethod(self):\n",
    "        print(f\"Ben süperkahramanım ve mesleğim : {self.meslek}\") # self ile referans verdik meslek özelliğne eriştik    "
   ]
  },
  {
   "cell_type": "code",
   "execution_count": 121,
   "metadata": {},
   "outputs": [
    {
     "name": "stdout",
     "output_type": "stream",
     "text": [
      "init çağrıldı\n"
     ]
    }
   ],
   "source": [
    "superman = SuperKahraman(\"Superman\",30,\"Gazeteci\") # özel metodun parametrelerine değerler verildi"
   ]
  },
  {
   "cell_type": "code",
   "execution_count": 122,
   "metadata": {},
   "outputs": [
    {
     "data": {
      "text/plain": [
       "'Superman'"
      ]
     },
     "execution_count": 122,
     "metadata": {},
     "output_type": "execute_result"
    }
   ],
   "source": [
    "superman.isim  #özel metoddan oluşturulan özellik çalıştırıldı"
   ]
  },
  {
   "cell_type": "code",
   "execution_count": 123,
   "metadata": {},
   "outputs": [],
   "source": [
    "superman.isim=\"CLarck Kent\"    #özel metoddan oluşturulan özellik değeri değiştirildi"
   ]
  },
  {
   "cell_type": "code",
   "execution_count": 124,
   "metadata": {},
   "outputs": [
    {
     "data": {
      "text/plain": [
       "'CLarck Kent'"
      ]
     },
     "execution_count": 124,
     "metadata": {},
     "output_type": "execute_result"
    }
   ],
   "source": [
    "superman.isim"
   ]
  },
  {
   "cell_type": "code",
   "execution_count": 125,
   "metadata": {},
   "outputs": [
    {
     "data": {
      "text/plain": [
       "30"
      ]
     },
     "execution_count": 125,
     "metadata": {},
     "output_type": "execute_result"
    }
   ],
   "source": [
    "superman.yas"
   ]
  },
  {
   "cell_type": "code",
   "execution_count": 126,
   "metadata": {},
   "outputs": [
    {
     "name": "stdout",
     "output_type": "stream",
     "text": [
      "Ben süperkahramanım ve mesleğim : Gazeteci\n"
     ]
    }
   ],
   "source": [
    "superman.ornekMethod()"
   ]
  },
  {
   "cell_type": "code",
   "execution_count": 127,
   "metadata": {},
   "outputs": [],
   "source": [
    "class kanarya():     #clas oluşturuldu\n",
    "    yilcarpani = 7  # classa özellik eklendi\n",
    "    def __init__(self,yas=5) :    #(yas=5) varsayılan parametre değeri   \n",
    "                            #özel metod yapılandırıcı metot oluşturuldu\n",
    "        self.yas = yas         #self bu sınıf içerisinde tüm metotlardan ulaşmayı sağladı\n",
    "                                # self.yas ile özellik tanımlandı\n",
    "        self.insanYasinaCevrilmisAttribute = yas * 7\n",
    "    def insanYasiniHesapla(self):\n",
    "        return self.yas * self.yilcarpani\n",
    "        "
   ]
  },
  {
   "cell_type": "code",
   "execution_count": 128,
   "metadata": {},
   "outputs": [],
   "source": [
    "benimKanarya = kanarya(5)   #parametreli sınıftan obje nesne oluşturuldu"
   ]
  },
  {
   "cell_type": "code",
   "execution_count": 129,
   "metadata": {},
   "outputs": [
    {
     "data": {
      "text/plain": [
       "5"
      ]
     },
     "execution_count": 129,
     "metadata": {},
     "output_type": "execute_result"
    }
   ],
   "source": [
    "benimKanarya.yas    # oluşturulan nesneden yas özelliği çalıştırıldı"
   ]
  },
  {
   "cell_type": "code",
   "execution_count": 130,
   "metadata": {},
   "outputs": [
    {
     "data": {
      "text/plain": [
       "35"
      ]
     },
     "execution_count": 130,
     "metadata": {},
     "output_type": "execute_result"
    }
   ],
   "source": [
    "benimKanarya.insanYasiniHesapla() "
   ]
  },
  {
   "cell_type": "code",
   "execution_count": 131,
   "metadata": {},
   "outputs": [
    {
     "data": {
      "text/plain": [
       "35"
      ]
     },
     "execution_count": 131,
     "metadata": {},
     "output_type": "execute_result"
    }
   ],
   "source": [
    "benimKanarya.insanYasinaCevrilmisAttribute"
   ]
  },
  {
   "attachments": {},
   "cell_type": "markdown",
   "metadata": {},
   "source": [
    "# inheritance"
   ]
  },
  {
   "cell_type": "code",
   "execution_count": 132,
   "metadata": {},
   "outputs": [],
   "source": [
    "class bitki():     # bitki sınıfı oluşturuldu\n",
    "    def __init__(self) :   # özel yapılandırıcı metot oluşturuldu\n",
    "        print(\"Bitki çağrıldı\")\n",
    "\n",
    "    def  method1(self):    # sınıf içerinde farklı bir method oluşturuldu\n",
    "        print(\"Bitki sınıfı method1 çağrıldı\")  \n",
    "\n",
    "    def method2(self):\n",
    "        print(\"Bitki sınıfı method 2 çağrıldı\") \n",
    "\n",
    "\n",
    "\n",
    "\n",
    "\n"
   ]
  },
  {
   "cell_type": "code",
   "execution_count": 133,
   "metadata": {},
   "outputs": [
    {
     "name": "stdout",
     "output_type": "stream",
     "text": [
      "Bitki çağrıldı\n"
     ]
    }
   ],
   "source": [
    "benimBitkim = bitki()    # bitki sınıfdan benimBitkim adlı nesne oluşturuldu"
   ]
  },
  {
   "cell_type": "code",
   "execution_count": 134,
   "metadata": {},
   "outputs": [
    {
     "name": "stdout",
     "output_type": "stream",
     "text": [
      "Bitki sınıfı method1 çağrıldı\n"
     ]
    }
   ],
   "source": [
    "benimBitkim.method1()      #benimBitkim nesnesinden method1 adlı metot çalıştırıldı"
   ]
  },
  {
   "cell_type": "code",
   "execution_count": 135,
   "metadata": {},
   "outputs": [
    {
     "name": "stdout",
     "output_type": "stream",
     "text": [
      "Bitki sınıfı method 2 çağrıldı\n"
     ]
    }
   ],
   "source": [
    "benimBitkim.method2() "
   ]
  },
  {
   "cell_type": "code",
   "execution_count": 136,
   "metadata": {},
   "outputs": [],
   "source": [
    "class  Agac(bitki):          # Agac classı oluşturuldu ve bitki clasından kalıtım inheritance yapıldı\n",
    "    def __init__(self):       # agac classına özel yapılandırıcı metot oluşturuldu\n",
    "        bitki.__init__(self)   # bitki classında yapılandırıcı metot agac classına eklendi\n",
    "        print(\"Agac sınıfı init çağrıldı\")\n",
    "\n",
    "    def sulamaYap(self):\n",
    "        print(\"Ağacı sula\")    \n",
    "\n",
    "    #override üstüne yazmak  diğer metodun üstüne farklı bir metod yazdık\n",
    "    def method1(self):\n",
    "        print(\"Agac sınıfında method1 çalıştırıldı\")    "
   ]
  },
  {
   "cell_type": "code",
   "execution_count": 137,
   "metadata": {},
   "outputs": [
    {
     "name": "stdout",
     "output_type": "stream",
     "text": [
      "Bitki çağrıldı\n",
      "Agac sınıfı init çağrıldı\n"
     ]
    }
   ],
   "source": [
    "benimAgac = Agac()   # agac sınıfdan benimAgac adlı nesne oluşturuldu"
   ]
  },
  {
   "cell_type": "code",
   "execution_count": 138,
   "metadata": {},
   "outputs": [
    {
     "name": "stdout",
     "output_type": "stream",
     "text": [
      "Agac sınıfında method1 çalıştırıldı\n"
     ]
    }
   ],
   "source": [
    "benimAgac.method1()  # benim agac nesnesinden kalıtım yoluyla gelen bitki classında method 1 çalıştırıldı."
   ]
  },
  {
   "cell_type": "code",
   "execution_count": 139,
   "metadata": {},
   "outputs": [
    {
     "name": "stdout",
     "output_type": "stream",
     "text": [
      "Bitki sınıfı method 2 çağrıldı\n"
     ]
    }
   ],
   "source": [
    "benimAgac.method2()  # benim agac nesnesinden kalıtım yoluyla gelen bitki classında method 2 çalıştırıldı."
   ]
  },
  {
   "cell_type": "code",
   "execution_count": 140,
   "metadata": {},
   "outputs": [
    {
     "name": "stdout",
     "output_type": "stream",
     "text": [
      "Ağacı sula\n"
     ]
    }
   ],
   "source": [
    "benimAgac.sulamaYap()"
   ]
  },
  {
   "cell_type": "code",
   "execution_count": 141,
   "metadata": {},
   "outputs": [
    {
     "name": "stdout",
     "output_type": "stream",
     "text": [
      "Bitki çağrıldı\n"
     ]
    }
   ],
   "source": [
    "digerBitki = bitki() "
   ]
  },
  {
   "cell_type": "code",
   "execution_count": 142,
   "metadata": {},
   "outputs": [
    {
     "name": "stdout",
     "output_type": "stream",
     "text": [
      "Bitki sınıfı method1 çağrıldı\n"
     ]
    }
   ],
   "source": [
    "digerBitki.method1()"
   ]
  },
  {
   "cell_type": "code",
   "execution_count": 143,
   "metadata": {},
   "outputs": [
    {
     "name": "stdout",
     "output_type": "stream",
     "text": [
      "Bitki çağrıldı\n",
      "Agac sınıfı init çağrıldı\n"
     ]
    }
   ],
   "source": [
    "digerAgac=Agac()"
   ]
  },
  {
   "cell_type": "code",
   "execution_count": 144,
   "metadata": {},
   "outputs": [
    {
     "name": "stdout",
     "output_type": "stream",
     "text": [
      "Agac sınıfında method1 çalıştırıldı\n"
     ]
    }
   ],
   "source": [
    "digerAgac.method1()"
   ]
  },
  {
   "attachments": {},
   "cell_type": "markdown",
   "metadata": {},
   "source": [
    "## Polymorphism  : Aynı isimde fonksiyonların yada methodların farklı amaca hizmet edebilmesine polymorphism denir."
   ]
  },
  {
   "cell_type": "code",
   "execution_count": 145,
   "metadata": {},
   "outputs": [],
   "source": [
    "class Apple():          #Apple adlı class oluşturuldu\n",
    "    def __init__(self,isim):   # yapılandırıcı özel metot oluşturuldu ve parametre olarak isim alıyor\n",
    "        self.isim = isim       # class içerisinden her yerden erişilebilecek isim adlı özellik oluşturuldu\n",
    "\n",
    "    def bilgiVer(self):                        #bilgiVer adlı metod oluşturuldu Apple classı içerisinde\n",
    "        return  self.isim + \" 100 kaloridir\"    # bilgiVer metodu  isim özelliği ile beraber değer döndürdü"
   ]
  },
  {
   "cell_type": "code",
   "execution_count": 146,
   "metadata": {},
   "outputs": [],
   "source": [
    "class Banana():           \n",
    "    def __init__(self,isim):\n",
    "        self.isim = isim\n",
    "\n",
    "    def bilgiVer(self):\n",
    "        return self.isim + \" 150 kaloridir. \"    "
   ]
  },
  {
   "cell_type": "code",
   "execution_count": 148,
   "metadata": {},
   "outputs": [],
   "source": [
    "apple = Apple(\"apple\")     # Apple adlı classtan apple adlı nesne obje oluşturuldu"
   ]
  },
  {
   "cell_type": "code",
   "execution_count": 149,
   "metadata": {},
   "outputs": [
    {
     "data": {
      "text/plain": [
       "'apple 100 kaloridir'"
      ]
     },
     "execution_count": 149,
     "metadata": {},
     "output_type": "execute_result"
    }
   ],
   "source": [
    "apple.bilgiVer()           #apple adlı nesne objeden bilgiVer adlı metod çalıştırıldı"
   ]
  },
  {
   "cell_type": "code",
   "execution_count": 150,
   "metadata": {},
   "outputs": [],
   "source": [
    "banana = Banana(\"banana\")   "
   ]
  },
  {
   "cell_type": "code",
   "execution_count": 151,
   "metadata": {},
   "outputs": [
    {
     "data": {
      "text/plain": [
       "'banana 150 kaloridir. '"
      ]
     },
     "execution_count": 151,
     "metadata": {},
     "output_type": "execute_result"
    }
   ],
   "source": [
    "banana.bilgiVer()"
   ]
  },
  {
   "cell_type": "code",
   "execution_count": 152,
   "metadata": {},
   "outputs": [],
   "source": [
    "meyveListesi = [banana,apple]    # meyveListesi adlı listeye banana ve apple nesneleri eklendi."
   ]
  },
  {
   "cell_type": "code",
   "execution_count": 153,
   "metadata": {},
   "outputs": [
    {
     "name": "stdout",
     "output_type": "stream",
     "text": [
      "banana 150 kaloridir. \n",
      "apple 100 kaloridir\n"
     ]
    }
   ],
   "source": [
    "for meyve in meyveListesi:      #meyvelListesi adlı liste for döngüsü ile döndürüldü\n",
    "    print(meyve.bilgiVer())      # ve bu liste içerisindeki objelerin içindeki bilgiVer metodu yazdırıldı "
   ]
  },
  {
   "cell_type": "code",
   "execution_count": 154,
   "metadata": {},
   "outputs": [],
   "source": [
    "def bilgiAl(meyve):       # bilgiAl adlı metod oluştu ve içerisine parametre olarak meyve listesi verildi\n",
    "    print(meyve.bilgiVer())  # meyve listesi içerisindeki banana ve apple nesnelerinde bulunan bilgiVer adlı metot yazdırıldı"
   ]
  },
  {
   "cell_type": "code",
   "execution_count": 156,
   "metadata": {},
   "outputs": [
    {
     "name": "stdout",
     "output_type": "stream",
     "text": [
      "banana 150 kaloridir. \n"
     ]
    }
   ],
   "source": [
    "bilgiAl(banana)      # bilgiAl metodundan   banana adlı nesneye ait özellik yazdırıldı."
   ]
  }
 ],
 "metadata": {
  "kernelspec": {
   "display_name": "Python 3",
   "language": "python",
   "name": "python3"
  },
  "language_info": {
   "codemirror_mode": {
    "name": "ipython",
    "version": 3
   },
   "file_extension": ".py",
   "mimetype": "text/x-python",
   "name": "python",
   "nbconvert_exporter": "python",
   "pygments_lexer": "ipython3",
   "version": "3.11.1"
  },
  "orig_nbformat": 4,
  "vscode": {
   "interpreter": {
    "hash": "6dc46ff3906e4414bf7f24b1863e933eef6514a11cd45315589219b1126c5b25"
   }
  }
 },
 "nbformat": 4,
 "nbformat_minor": 2
}
