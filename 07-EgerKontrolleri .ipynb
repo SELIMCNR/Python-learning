{
 "cells": [
  {
   "cell_type": "code",
   "execution_count": 1,
   "id": "b17dedb9",
   "metadata": {},
   "outputs": [
    {
     "data": {
      "text/plain": [
       "True"
      ]
     },
     "execution_count": 1,
     "metadata": {},
     "output_type": "execute_result"
    }
   ],
   "source": [
    "3 > 1"
   ]
  },
  {
   "cell_type": "code",
   "execution_count": 3,
   "id": "62717c29",
   "metadata": {},
   "outputs": [
    {
     "name": "stdout",
     "output_type": "stream",
     "text": [
      "Selim Çınar\n",
      "if koşulu sağlandı\n"
     ]
    }
   ],
   "source": [
    "if 3 > 1 : \n",
    "    print(\"Selim Çınar\")\n",
    "    print(\"if koşulu sağlandı\")"
   ]
  },
  {
   "cell_type": "code",
   "execution_count": 10,
   "id": "3806b3ad",
   "metadata": {},
   "outputs": [],
   "source": [
    "x = 3"
   ]
  },
  {
   "cell_type": "code",
   "execution_count": 11,
   "id": "a614d4e0",
   "metadata": {},
   "outputs": [],
   "source": [
    "y = 4"
   ]
  },
  {
   "cell_type": "code",
   "execution_count": 12,
   "id": "66bcfa3f",
   "metadata": {},
   "outputs": [],
   "source": [
    "if x > y : \n",
    "    print(\"x,y'den daha büyükmüş\")"
   ]
  },
  {
   "cell_type": "code",
   "execution_count": 13,
   "id": "8ac13086",
   "metadata": {},
   "outputs": [
    {
     "name": "stdout",
     "output_type": "stream",
     "text": [
      "9\n"
     ]
    }
   ],
   "source": [
    "a = 5 \n",
    "b = 4 \n",
    "print(a+b)"
   ]
  },
  {
   "cell_type": "code",
   "execution_count": 16,
   "id": "560fc4d5",
   "metadata": {},
   "outputs": [
    {
     "name": "stdout",
     "output_type": "stream",
     "text": [
      "y, x'den daha büyükmüş\n"
     ]
    }
   ],
   "source": [
    "if x > y : \n",
    "    print(\"x,y'den daha büyükmüş\")\n",
    "elif y > x:\n",
    "    print(\"y, x'den daha büyükmüş\")\n",
    "elif x == y:\n",
    "    print(\"y ve x birbirine eşitmiş\")\n",
    "else:\n",
    "    print(\"Sayı değil\")"
   ]
  },
  {
   "cell_type": "code",
   "execution_count": 17,
   "id": "fc98b644",
   "metadata": {},
   "outputs": [
    {
     "name": "stdout",
     "output_type": "stream",
     "text": [
      "Super kahraman seçiniz: Batman\n"
     ]
    }
   ],
   "source": [
    "benimKahramanim = input(\"Super kahraman seçiniz: \")"
   ]
  },
  {
   "cell_type": "code",
   "execution_count": 19,
   "id": "5924fac2",
   "metadata": {},
   "outputs": [
    {
     "name": "stdout",
     "output_type": "stream",
     "text": [
      "Batman'i seçtiniz tebrikler'\n"
     ]
    }
   ],
   "source": [
    "if benimKahramanim == \"Batman\":\n",
    "    print(\"Batman'i seçtiniz tebrikler'\")\n",
    "elif benimKahramanim == \"Superman\":\n",
    "    print(\"Keşke Batman'i seçseydiniz.'\")\n",
    "elif benimKahramanim == \"Ironman\":\n",
    "    print(\"Iron man kimdi ? \")\n",
    "elif benimKahramanim == \"Orumcek Adam\":\n",
    "    print(\"Bu da iyi bir seçim\")\n",
    "else:\n",
    "    print(\"Bu kim gerçekten bilmiyoruz\")"
   ]
  },
  {
   "cell_type": "code",
   "execution_count": 20,
   "id": "e5f32b55",
   "metadata": {},
   "outputs": [],
   "source": [
    "a = 10 \n",
    "b = 20 \n",
    "c = 30 \n"
   ]
  },
  {
   "cell_type": "code",
   "execution_count": 25,
   "id": "e9d70f1d",
   "metadata": {},
   "outputs": [
    {
     "name": "stdout",
     "output_type": "stream",
     "text": [
      "A, b'den küçük ve b'de c'den küçük\n"
     ]
    }
   ],
   "source": [
    "if a > b and b > c:\n",
    "    print(\"A, b'den büyük ve b'de c'den büyük\")\n",
    "elif a < b and b < c: \n",
    "    print(\"A, b'den küçük ve b'de c'den küçük\")\n",
    "elif a == b or c>a:\n",
    "    print(\"A ve b eşit veya c a'dan büyük\")\n",
    "else:\n",
    "    print(\"Bu koşullar tutmadı\")"
   ]
  },
  {
   "cell_type": "code",
   "execution_count": 26,
   "id": "93623d79",
   "metadata": {},
   "outputs": [],
   "source": [
    "m = 10 \n",
    "k = 4 \n",
    "l = 1 "
   ]
  },
  {
   "cell_type": "code",
   "execution_count": 27,
   "id": "64a40700",
   "metadata": {},
   "outputs": [
    {
     "name": "stdout",
     "output_type": "stream",
     "text": [
      "Bu çalışır mı ? \n"
     ]
    }
   ],
   "source": [
    "if m > k or k > l: \n",
    "    print(\"Bu çalışır mı ? \")\n",
    "elif m == k or k <=l : \n",
    "    print(\"Ya bu ? \")\n",
    "else : \n",
    "    print(\"Çalışmadı\")"
   ]
  },
  {
   "cell_type": "code",
   "execution_count": null,
   "id": "0066b637",
   "metadata": {},
   "outputs": [],
   "source": []
  }
 ],
 "metadata": {
  "kernelspec": {
   "display_name": "Python 3 (ipykernel)",
   "language": "python",
   "name": "python3"
  },
  "language_info": {
   "codemirror_mode": {
    "name": "ipython",
    "version": 3
   },
   "file_extension": ".py",
   "mimetype": "text/x-python",
   "name": "python",
   "nbconvert_exporter": "python",
   "pygments_lexer": "ipython3",
   "version": "3.9.12"
  }
 },
 "nbformat": 4,
 "nbformat_minor": 5
}
