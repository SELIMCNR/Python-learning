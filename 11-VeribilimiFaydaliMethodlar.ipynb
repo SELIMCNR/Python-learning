{
 "cells": [
  {
   "cell_type": "code",
   "execution_count": 3,
   "id": "79bdfe4b",
   "metadata": {},
   "outputs": [],
   "source": [
    "benimListem = [0,1,2,3,4,5,6]\n"
   ]
  },
  {
   "cell_type": "code",
   "execution_count": 4,
   "id": "cd72c9d5",
   "metadata": {},
   "outputs": [
    {
     "name": "stdout",
     "output_type": "stream",
     "text": [
      "0\n",
      "1\n",
      "2\n",
      "3\n",
      "4\n",
      "5\n",
      "6\n"
     ]
    }
   ],
   "source": [
    "for numara in benimListem:\n",
    "\t   print(numara)"
   ]
  },
  {
   "cell_type": "code",
   "execution_count": 5,
   "id": "52eea967",
   "metadata": {},
   "outputs": [
    {
     "data": {
      "text/plain": [
       "range(0, 15)"
      ]
     },
     "execution_count": 5,
     "metadata": {},
     "output_type": "execute_result"
    }
   ],
   "source": [
    "##range \n",
    "range(0,15)"
   ]
  },
  {
   "cell_type": "code",
   "execution_count": 9,
   "id": "314f8775",
   "metadata": {},
   "outputs": [
    {
     "name": "stdout",
     "output_type": "stream",
     "text": [
      "0\n",
      "5\n",
      "10\n",
      "15\n",
      "20\n",
      "25\n",
      "30\n",
      "35\n",
      "40\n",
      "45\n",
      "50\n",
      "55\n",
      "60\n",
      "65\n",
      "70\n",
      "75\n",
      "80\n"
     ]
    }
   ],
   "source": [
    "list(range(17))\n",
    "\n",
    "for numara in list(range(17)):\n",
    "\tprint(numara*5)"
   ]
  },
  {
   "cell_type": "code",
   "execution_count": 10,
   "id": "f2633086",
   "metadata": {},
   "outputs": [
    {
     "data": {
      "text/plain": [
       "[5, 9, 13, 17]"
      ]
     },
     "execution_count": 10,
     "metadata": {},
     "output_type": "execute_result"
    }
   ],
   "source": [
    "list(range(5,21,4))"
   ]
  },
  {
   "cell_type": "code",
   "execution_count": 6,
   "id": "88a5ca83",
   "metadata": {},
   "outputs": [
    {
     "name": "stdout",
     "output_type": "stream",
     "text": [
      "güncel numara : 5 güncel index: 0\n",
      "güncel numara : 6 güncel index: 1\n",
      "güncel numara : 7 güncel index: 2\n",
      "güncel numara : 8 güncel index: 3\n",
      "güncel numara : 9 güncel index: 4\n",
      "güncel numara : 10 güncel index: 5\n",
      "güncel numara : 11 güncel index: 6\n",
      "güncel numara : 12 güncel index: 7\n",
      "güncel numara : 13 güncel index: 8\n",
      "güncel numara : 14 güncel index: 9\n"
     ]
    }
   ],
   "source": [
    "##enumarate    \n",
    "index = 0\n",
    "for numara in list(range(5,15)):\n",
    "\tprint(f\"güncel numara : {numara} güncel index: {index}\")\n",
    "\tindex = index + 1"
   ]
  },
  {
   "cell_type": "code",
   "execution_count": 10,
   "id": "9af86351",
   "metadata": {},
   "outputs": [
    {
     "name": "stdout",
     "output_type": "stream",
     "text": [
      "(0, 5)\n",
      "(1, 6)\n",
      "(2, 7)\n",
      "(3, 8)\n",
      "(4, 9)\n",
      "(5, 10)\n",
      "(6, 11)\n",
      "(7, 12)\n",
      "(8, 13)\n",
      "(9, 14)\n"
     ]
    }
   ],
   "source": [
    "for eleman in enumerate(list(range(5,15))):\t\n",
    "\tprint(eleman)"
   ]
  },
  {
   "cell_type": "code",
   "execution_count": 11,
   "id": "394e8113",
   "metadata": {},
   "outputs": [
    {
     "name": "stdout",
     "output_type": "stream",
     "text": [
      "<class 'tuple'>\n",
      "<class 'tuple'>\n",
      "<class 'tuple'>\n",
      "<class 'tuple'>\n",
      "<class 'tuple'>\n",
      "<class 'tuple'>\n",
      "<class 'tuple'>\n",
      "<class 'tuple'>\n",
      "<class 'tuple'>\n",
      "<class 'tuple'>\n"
     ]
    }
   ],
   "source": [
    "for eleman in enumerate(list(range(5,15)))\t:\n",
    "\tprint(type(eleman))\n",
    "\t"
   ]
  },
  {
   "cell_type": "code",
   "execution_count": 12,
   "id": "dfbc0566",
   "metadata": {},
   "outputs": [
    {
     "name": "stdout",
     "output_type": "stream",
     "text": [
      "5\n",
      "6\n",
      "7\n",
      "8\n",
      "9\n",
      "10\n",
      "11\n",
      "12\n",
      "13\n",
      "14\n"
     ]
    }
   ],
   "source": [
    "for (index,numara) in enumerate(list(range(5,15))):\n",
    "\tprint(numara)"
   ]
  },
  {
   "cell_type": "code",
   "execution_count": null,
   "id": "76edb4e0",
   "metadata": {},
   "outputs": [],
   "source": [
    "##random\n",
    "from random import randint    #random kütüphanesinden randiniti getir\n",
    "randint(0,100)\n",
    "randint(0,100)\n",
    "randint(0,100)"
   ]
  },
  {
   "cell_type": "code",
   "execution_count": 15,
   "id": "36005c25",
   "metadata": {},
   "outputs": [
    {
     "data": {
      "text/plain": [
       "[0, 1, 2, 3, 4, 5, 6, 7, 8, 9]"
      ]
     },
     "execution_count": 15,
     "metadata": {},
     "output_type": "execute_result"
    }
   ],
   "source": [
    "yeniListe = list(range(0,10))\n",
    "yeniListe\n"
   ]
  },
  {
   "cell_type": "code",
   "execution_count": 17,
   "id": "81b1d7c4",
   "metadata": {},
   "outputs": [],
   "source": [
    "from random import randint    #random kütüphanesinden randiniti getir"
   ]
  },
  {
   "cell_type": "code",
   "execution_count": 18,
   "id": "05a6dd89",
   "metadata": {},
   "outputs": [
    {
     "data": {
      "text/plain": [
       "56"
      ]
     },
     "execution_count": 18,
     "metadata": {},
     "output_type": "execute_result"
    }
   ],
   "source": [
    "randint(0,100)\n",
    "\n"
   ]
  },
  {
   "cell_type": "code",
   "execution_count": 19,
   "id": "d42fb9ea",
   "metadata": {},
   "outputs": [
    {
     "data": {
      "text/plain": [
       "14"
      ]
     },
     "execution_count": 19,
     "metadata": {},
     "output_type": "execute_result"
    }
   ],
   "source": [
    "randint(0,100)"
   ]
  },
  {
   "cell_type": "code",
   "execution_count": 20,
   "id": "19325793",
   "metadata": {},
   "outputs": [
    {
     "data": {
      "text/plain": [
       "69"
      ]
     },
     "execution_count": 20,
     "metadata": {},
     "output_type": "execute_result"
    }
   ],
   "source": [
    "randint(0,100)"
   ]
  },
  {
   "cell_type": "code",
   "execution_count": 27,
   "id": "b5cd0c5e",
   "metadata": {},
   "outputs": [
    {
     "data": {
      "text/plain": [
       "[0, 1, 2, 3, 4, 5, 6, 7, 8, 9]"
      ]
     },
     "execution_count": 27,
     "metadata": {},
     "output_type": "execute_result"
    }
   ],
   "source": [
    "yeniListe = list(range(0,10))\n",
    "yeniListe"
   ]
  },
  {
   "cell_type": "code",
   "execution_count": 28,
   "id": "3e375ae8",
   "metadata": {},
   "outputs": [
    {
     "data": {
      "text/plain": [
       "[9, 7, 3, 4, 2, 8, 5, 6, 0, 1]"
      ]
     },
     "execution_count": 28,
     "metadata": {},
     "output_type": "execute_result"
    }
   ],
   "source": [
    "from random import shuffle  #random kütüphanesinden shuffle getir\n",
    "shuffle(yeniListe)   #shuffle karıştırır\n",
    "yeniListe"
   ]
  },
  {
   "cell_type": "markdown",
   "id": "9df9680d",
   "metadata": {},
   "source": [
    "Zip --Sıkıştırma\n",
    "\n"
   ]
  },
  {
   "cell_type": "code",
   "execution_count": 30,
   "id": "7578acf0",
   "metadata": {},
   "outputs": [],
   "source": [
    "yemekListesi = [\"muz\",\"ananas\",\"elma\"]"
   ]
  },
  {
   "cell_type": "code",
   "execution_count": 31,
   "id": "a470efdc",
   "metadata": {},
   "outputs": [],
   "source": [
    "kaloriListesi = [100,200,300]"
   ]
  },
  {
   "cell_type": "code",
   "execution_count": 32,
   "id": "601e5b45",
   "metadata": {},
   "outputs": [],
   "source": [
    "günListesi = [\"pazartesi\",\"salı\",\"çarşamba\"]"
   ]
  },
  {
   "cell_type": "code",
   "execution_count": 33,
   "id": "99bfdf34",
   "metadata": {},
   "outputs": [
    {
     "data": {
      "text/plain": [
       "zip"
      ]
     },
     "execution_count": 33,
     "metadata": {},
     "output_type": "execute_result"
    }
   ],
   "source": [
    "type(zip(yemekListesi,kaloriListesi,günListesi))"
   ]
  },
  {
   "cell_type": "code",
   "execution_count": 35,
   "id": "3dfe4fca",
   "metadata": {},
   "outputs": [],
   "source": [
    "ziplenmişListe= list(zip(yemekListesi,kaloriListesi,günListesi))"
   ]
  },
  {
   "cell_type": "code",
   "execution_count": 36,
   "id": "473a4c96",
   "metadata": {},
   "outputs": [
    {
     "name": "stdout",
     "output_type": "stream",
     "text": [
      "<class 'tuple'>\n",
      "<class 'tuple'>\n",
      "<class 'tuple'>\n"
     ]
    }
   ],
   "source": [
    "for eleman in ziplenmişListe:\n",
    "    print (type(eleman))"
   ]
  },
  {
   "cell_type": "code",
   "execution_count": 37,
   "id": "02c08035",
   "metadata": {},
   "outputs": [
    {
     "data": {
      "text/plain": [
       "[('muz', 100, 'pazartesi'), ('ananas', 200, 'salı'), ('elma', 300, 'çarşamba')]"
      ]
     },
     "execution_count": 37,
     "metadata": {},
     "output_type": "execute_result"
    }
   ],
   "source": [
    "ziplenmişListe"
   ]
  },
  {
   "cell_type": "markdown",
   "id": "a069b3a0",
   "metadata": {},
   "source": [
    "##LİSTELER İLERİ SEVİYE"
   ]
  },
  {
   "cell_type": "code",
   "execution_count": 40,
   "id": "37044057",
   "metadata": {},
   "outputs": [],
   "source": [
    "listeOrnegi = []\n",
    "benimString = \"Selim Çınar\"\n",
    "\n",
    "for harf in benimString:\n",
    "    listeOrnegi.append(harf)"
   ]
  },
  {
   "cell_type": "code",
   "execution_count": 41,
   "id": "492b51a0",
   "metadata": {},
   "outputs": [
    {
     "data": {
      "text/plain": [
       "['S', 'e', 'l', 'i', 'm', ' ', 'Ç', 'ı', 'n', 'a', 'r']"
      ]
     },
     "execution_count": 41,
     "metadata": {},
     "output_type": "execute_result"
    }
   ],
   "source": [
    "listeOrnegi"
   ]
  },
  {
   "cell_type": "code",
   "execution_count": 42,
   "id": "76774a45",
   "metadata": {},
   "outputs": [],
   "source": [
    "yeniString = \"Selim Çınar\""
   ]
  },
  {
   "cell_type": "code",
   "execution_count": 43,
   "id": "e7f7e51d",
   "metadata": {},
   "outputs": [],
   "source": [
    "yeniListeOrnegi = [eleman for eleman in yeniString]"
   ]
  },
  {
   "cell_type": "code",
   "execution_count": 44,
   "id": "8a546498",
   "metadata": {},
   "outputs": [
    {
     "data": {
      "text/plain": [
       "['S', 'e', 'l', 'i', 'm', ' ', 'Ç', 'ı', 'n', 'a', 'r']"
      ]
     },
     "execution_count": 44,
     "metadata": {},
     "output_type": "execute_result"
    }
   ],
   "source": [
    "yeniListeOrnegi"
   ]
  },
  {
   "cell_type": "code",
   "execution_count": 47,
   "id": "9704a26c",
   "metadata": {},
   "outputs": [],
   "source": [
    "ikinciListeOrnegi = [numara ** 5 for numara in list(range(0,10)) ]"
   ]
  },
  {
   "cell_type": "code",
   "execution_count": 48,
   "id": "28bb1b3a",
   "metadata": {},
   "outputs": [
    {
     "data": {
      "text/plain": [
       "[0, 1, 32, 243, 1024, 3125, 7776, 16807, 32768, 59049]"
      ]
     },
     "execution_count": 48,
     "metadata": {},
     "output_type": "execute_result"
    }
   ],
   "source": [
    "ikinciListeOrnegi"
   ]
  },
  {
   "cell_type": "code",
   "execution_count": 49,
   "id": "ad6079cb",
   "metadata": {},
   "outputs": [],
   "source": [
    "ilkListe= [\"Btk\",\"Akademide\",\"Ücretsiz\",\"Eğitimler\",\"Bulunmaktadır\"]"
   ]
  },
  {
   "cell_type": "code",
   "execution_count": 52,
   "id": "32e91eec",
   "metadata": {},
   "outputs": [],
   "source": [
    "liste2 = [kelime for kelime in ilkListe]"
   ]
  },
  {
   "cell_type": "code",
   "execution_count": 53,
   "id": "74120bf6",
   "metadata": {},
   "outputs": [
    {
     "data": {
      "text/plain": [
       "['Btk', 'Akademide', 'Ücretsiz', 'Eğitimler', 'Bulunmaktadır']"
      ]
     },
     "execution_count": 53,
     "metadata": {},
     "output_type": "execute_result"
    }
   ],
   "source": [
    "liste2"
   ]
  },
  {
   "cell_type": "code",
   "execution_count": null,
   "id": "fdfec416",
   "metadata": {},
   "outputs": [],
   "source": []
  }
 ],
 "metadata": {
  "kernelspec": {
   "display_name": "Python 3",
   "language": "python",
   "name": "python3"
  },
  "language_info": {
   "codemirror_mode": {
    "name": "ipython",
    "version": 3
   },
   "file_extension": ".py",
   "mimetype": "text/x-python",
   "name": "python",
   "nbconvert_exporter": "python",
   "pygments_lexer": "ipython3",
   "version": "3.11.1"
  },
  "vscode": {
   "interpreter": {
    "hash": "6dc46ff3906e4414bf7f24b1863e933eef6514a11cd45315589219b1126c5b25"
   }
  }
 },
 "nbformat": 4,
 "nbformat_minor": 5
}
