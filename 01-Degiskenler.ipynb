{
 "cells": [
  {
   "cell_type": "code",
   "execution_count": 3,
   "id": "6fadd226",
   "metadata": {},
   "outputs": [
    {
     "data": {
      "text/plain": [
       "25"
      ]
     },
     "execution_count": 3,
     "metadata": {},
     "output_type": "execute_result"
    }
   ],
   "source": [
    "5*5\n"
   ]
  },
  {
   "cell_type": "code",
   "execution_count": 4,
   "id": "0bcfe0d9",
   "metadata": {},
   "outputs": [
    {
     "name": "stdout",
     "output_type": "stream",
     "text": [
      "25\n"
     ]
    }
   ],
   "source": [
    "print(5*5)"
   ]
  },
  {
   "cell_type": "markdown",
   "id": "cc575678",
   "metadata": {},
   "source": [
    "Python Öğreniyorum\n",
    "\n",
    "Variables(Değişkenler)\n"
   ]
  },
  {
   "cell_type": "code",
   "execution_count": 5,
   "id": "66d400f7",
   "metadata": {},
   "outputs": [],
   "source": [
    "x = 5 \n",
    "y=4"
   ]
  },
  {
   "cell_type": "code",
   "execution_count": 6,
   "id": "969be9d1",
   "metadata": {},
   "outputs": [
    {
     "data": {
      "text/plain": [
       "20"
      ]
     },
     "execution_count": 6,
     "metadata": {},
     "output_type": "execute_result"
    }
   ],
   "source": [
    "x*y"
   ]
  },
  {
   "cell_type": "code",
   "execution_count": 7,
   "id": "d433517f",
   "metadata": {},
   "outputs": [],
   "source": [
    "x=6\n"
   ]
  },
  {
   "cell_type": "code",
   "execution_count": 8,
   "id": "8c594ebf",
   "metadata": {},
   "outputs": [
    {
     "data": {
      "text/plain": [
       "24"
      ]
     },
     "execution_count": 8,
     "metadata": {},
     "output_type": "execute_result"
    }
   ],
   "source": [
    "x*y"
   ]
  },
  {
   "cell_type": "code",
   "execution_count": 9,
   "id": "564369ac",
   "metadata": {},
   "outputs": [
    {
     "data": {
      "text/plain": [
       "40"
      ]
     },
     "execution_count": 9,
     "metadata": {},
     "output_type": "execute_result"
    }
   ],
   "source": [
    " y*10"
   ]
  },
  {
   "cell_type": "markdown",
   "id": "0a2d4727",
   "metadata": {},
   "source": [
    "# INTEGER & FLOAT\n"
   ]
  },
  {
   "cell_type": "code",
   "execution_count": 10,
   "id": "d5310043",
   "metadata": {},
   "outputs": [],
   "source": [
    "benimDegiskenim=10\n",
    "benimDigerDegiskenim=20\n"
   ]
  },
  {
   "cell_type": "code",
   "execution_count": 11,
   "id": "3c972ffc",
   "metadata": {},
   "outputs": [
    {
     "data": {
      "text/plain": [
       "30"
      ]
     },
     "execution_count": 11,
     "metadata": {},
     "output_type": "execute_result"
    }
   ],
   "source": [
    "benimDegiskenim + benimDigerDegiskenim"
   ]
  },
  {
   "cell_type": "code",
   "execution_count": 12,
   "id": "7a864d5c",
   "metadata": {},
   "outputs": [
    {
     "data": {
      "text/plain": [
       "int"
      ]
     },
     "execution_count": 12,
     "metadata": {},
     "output_type": "execute_result"
    }
   ],
   "source": [
    "type(benimDegiskenim)"
   ]
  },
  {
   "cell_type": "code",
   "execution_count": 13,
   "id": "25b40b67",
   "metadata": {},
   "outputs": [],
   "source": [
    "sonuc=benimDigerDegiskenim/benimDegiskenim"
   ]
  },
  {
   "cell_type": "code",
   "execution_count": 14,
   "id": "31fb454e",
   "metadata": {},
   "outputs": [
    {
     "data": {
      "text/plain": [
       "2.0"
      ]
     },
     "execution_count": 14,
     "metadata": {},
     "output_type": "execute_result"
    }
   ],
   "source": [
    "sonuc"
   ]
  },
  {
   "cell_type": "code",
   "execution_count": 15,
   "id": "52d04dea",
   "metadata": {},
   "outputs": [
    {
     "data": {
      "text/plain": [
       "float"
      ]
     },
     "execution_count": 15,
     "metadata": {},
     "output_type": "execute_result"
    }
   ],
   "source": [
    "type(sonuc)"
   ]
  },
  {
   "cell_type": "code",
   "execution_count": 16,
   "id": "d8de9f69",
   "metadata": {},
   "outputs": [],
   "source": [
    "a = 3\n",
    "b = 2 "
   ]
  },
  {
   "cell_type": "code",
   "execution_count": 17,
   "id": "f8a8b39a",
   "metadata": {},
   "outputs": [
    {
     "data": {
      "text/plain": [
       "1.5"
      ]
     },
     "execution_count": 17,
     "metadata": {},
     "output_type": "execute_result"
    }
   ],
   "source": [
    "a/b"
   ]
  },
  {
   "cell_type": "code",
   "execution_count": 18,
   "id": "d12c2d7b",
   "metadata": {},
   "outputs": [],
   "source": [
    "pi = 3.14\n"
   ]
  },
  {
   "cell_type": "code",
   "execution_count": 19,
   "id": "44f54fef",
   "metadata": {},
   "outputs": [
    {
     "data": {
      "text/plain": [
       "float"
      ]
     },
     "execution_count": 19,
     "metadata": {},
     "output_type": "execute_result"
    }
   ],
   "source": [
    "type(pi)"
   ]
  },
  {
   "cell_type": "code",
   "execution_count": 20,
   "id": "71c66476",
   "metadata": {},
   "outputs": [],
   "source": [
    "a=5"
   ]
  },
  {
   "cell_type": "code",
   "execution_count": 21,
   "id": "e50ff2a8",
   "metadata": {},
   "outputs": [
    {
     "data": {
      "text/plain": [
       "int"
      ]
     },
     "execution_count": 21,
     "metadata": {},
     "output_type": "execute_result"
    }
   ],
   "source": [
    "type(a)"
   ]
  },
  {
   "cell_type": "code",
   "execution_count": 22,
   "id": "b093ad16",
   "metadata": {},
   "outputs": [
    {
     "data": {
      "text/plain": [
       "1.592356687898089"
      ]
     },
     "execution_count": 22,
     "metadata": {},
     "output_type": "execute_result"
    }
   ],
   "source": [
    "a / pi"
   ]
  },
  {
   "cell_type": "code",
   "execution_count": 23,
   "id": "2840a222",
   "metadata": {},
   "outputs": [],
   "source": [
    "a = 5\n",
    "b = 4"
   ]
  },
  {
   "cell_type": "code",
   "execution_count": 24,
   "id": "2a28bfa1",
   "metadata": {},
   "outputs": [],
   "source": [
    "sonuc = a + b"
   ]
  },
  {
   "cell_type": "code",
   "execution_count": 25,
   "id": "21cc2bc2",
   "metadata": {},
   "outputs": [
    {
     "data": {
      "text/plain": [
       "int"
      ]
     },
     "execution_count": 25,
     "metadata": {},
     "output_type": "execute_result"
    }
   ],
   "source": [
    "type(sonuc)"
   ]
  },
  {
   "cell_type": "code",
   "execution_count": 26,
   "id": "e7af8018",
   "metadata": {},
   "outputs": [],
   "source": [
    "sonuc = a * b"
   ]
  },
  {
   "cell_type": "code",
   "execution_count": 27,
   "id": "b4852e25",
   "metadata": {},
   "outputs": [
    {
     "data": {
      "text/plain": [
       "int"
      ]
     },
     "execution_count": 27,
     "metadata": {},
     "output_type": "execute_result"
    }
   ],
   "source": [
    "type(sonuc)"
   ]
  },
  {
   "cell_type": "markdown",
   "id": "dc76a231",
   "metadata": {},
   "source": [
    "# Matematiksel İşlemler\n"
   ]
  },
  {
   "cell_type": "code",
   "execution_count": 28,
   "id": "5ceefe3f",
   "metadata": {},
   "outputs": [],
   "source": [
    "x = 5 \n",
    "y = 3"
   ]
  },
  {
   "cell_type": "code",
   "execution_count": 29,
   "id": "a1b2f50b",
   "metadata": {},
   "outputs": [
    {
     "data": {
      "text/plain": [
       "150"
      ]
     },
     "execution_count": 29,
     "metadata": {},
     "output_type": "execute_result"
    }
   ],
   "source": [
    "x * y * 10 "
   ]
  },
  {
   "cell_type": "code",
   "execution_count": 30,
   "id": "3ee9c5df",
   "metadata": {},
   "outputs": [
    {
     "data": {
      "text/plain": [
       "625"
      ]
     },
     "execution_count": 30,
     "metadata": {},
     "output_type": "execute_result"
    }
   ],
   "source": [
    "x * x* x * x "
   ]
  },
  {
   "cell_type": "code",
   "execution_count": 31,
   "id": "ed1fa3a5",
   "metadata": {},
   "outputs": [
    {
     "data": {
      "text/plain": [
       "625"
      ]
     },
     "execution_count": 31,
     "metadata": {},
     "output_type": "execute_result"
    }
   ],
   "source": [
    "x ** 4  #** üzeri hesaplar "
   ]
  },
  {
   "cell_type": "code",
   "execution_count": 32,
   "id": "fb1e0683",
   "metadata": {},
   "outputs": [
    {
     "data": {
      "text/plain": [
       "0"
      ]
     },
     "execution_count": 32,
     "metadata": {},
     "output_type": "execute_result"
    }
   ],
   "source": [
    "10 % 2 #kalan bulmak - remainder"
   ]
  },
  {
   "cell_type": "code",
   "execution_count": 33,
   "id": "0c54a123",
   "metadata": {},
   "outputs": [
    {
     "data": {
      "text/plain": [
       "1"
      ]
     },
     "execution_count": 33,
     "metadata": {},
     "output_type": "execute_result"
    }
   ],
   "source": [
    "11 % 2"
   ]
  },
  {
   "cell_type": "code",
   "execution_count": 34,
   "id": "8054d16c",
   "metadata": {},
   "outputs": [
    {
     "data": {
      "text/plain": [
       "2"
      ]
     },
     "execution_count": 34,
     "metadata": {},
     "output_type": "execute_result"
    }
   ],
   "source": [
    "11 % 3"
   ]
  },
  {
   "cell_type": "code",
   "execution_count": 35,
   "id": "bb3204c0",
   "metadata": {},
   "outputs": [],
   "source": [
    "kullanicininYasi = 10 # kullanicinin_yasi = 20\n",
    "#camelCase            #snake_case\n"
   ]
  },
  {
   "cell_type": "code",
   "execution_count": 36,
   "id": "ba1808eb",
   "metadata": {},
   "outputs": [
    {
     "data": {
      "text/plain": [
       "16.666666666666668"
      ]
     },
     "execution_count": 36,
     "metadata": {},
     "output_type": "execute_result"
    }
   ],
   "source": [
    "kullanicininYasi * 5 / 3"
   ]
  },
  {
   "cell_type": "code",
   "execution_count": 37,
   "id": "8c1a9cbf",
   "metadata": {},
   "outputs": [
    {
     "data": {
      "text/plain": [
       "int"
      ]
     },
     "execution_count": 37,
     "metadata": {},
     "output_type": "execute_result"
    }
   ],
   "source": [
    "type(kullanicininYasi)"
   ]
  },
  {
   "cell_type": "code",
   "execution_count": 38,
   "id": "21eb739a",
   "metadata": {},
   "outputs": [
    {
     "name": "stdout",
     "output_type": "stream",
     "text": [
      "Yaşınızı Giriniz22\n"
     ]
    }
   ],
   "source": [
    "kullanicininYasi=input(\"Yaşınızı Giriniz\") #kullanıcıdan veri almaü\n"
   ]
  },
  {
   "cell_type": "code",
   "execution_count": 39,
   "id": "26c7e3f2",
   "metadata": {},
   "outputs": [
    {
     "data": {
      "text/plain": [
       "'22'"
      ]
     },
     "execution_count": 39,
     "metadata": {},
     "output_type": "execute_result"
    }
   ],
   "source": [
    "kullanicininYasi  #tipi string olarak geliyor\n",
    "\n"
   ]
  },
  {
   "cell_type": "code",
   "execution_count": 40,
   "id": "67230350",
   "metadata": {},
   "outputs": [
    {
     "data": {
      "text/plain": [
       "str"
      ]
     },
     "execution_count": 40,
     "metadata": {},
     "output_type": "execute_result"
    }
   ],
   "source": [
    "type(kullanicininYasi)"
   ]
  },
  {
   "cell_type": "code",
   "execution_count": 41,
   "id": "0a58f11c",
   "metadata": {},
   "outputs": [
    {
     "data": {
      "text/plain": [
       "'2222222222'"
      ]
     },
     "execution_count": 41,
     "metadata": {},
     "output_type": "execute_result"
    }
   ],
   "source": [
    "kullanicininYasi * 5"
   ]
  },
  {
   "cell_type": "markdown",
   "id": "11618fc4",
   "metadata": {},
   "source": [
    "# String\n"
   ]
  },
  {
   "cell_type": "code",
   "execution_count": 42,
   "id": "02900523",
   "metadata": {},
   "outputs": [
    {
     "data": {
      "text/plain": [
       "'Merhaba Dünya'"
      ]
     },
     "execution_count": 42,
     "metadata": {},
     "output_type": "execute_result"
    }
   ],
   "source": [
    "\"Merhaba Dünya\""
   ]
  },
  {
   "cell_type": "code",
   "execution_count": 43,
   "id": "0f1efe90",
   "metadata": {},
   "outputs": [],
   "source": [
    "x = \"Merhaba Dünya\""
   ]
  },
  {
   "cell_type": "code",
   "execution_count": 44,
   "id": "3ea148f9",
   "metadata": {},
   "outputs": [],
   "source": [
    "x=10\n"
   ]
  },
  {
   "cell_type": "code",
   "execution_count": 45,
   "id": "266be26a",
   "metadata": {},
   "outputs": [],
   "source": [
    "x=20.4"
   ]
  },
  {
   "cell_type": "code",
   "execution_count": 46,
   "id": "2b07f7f8",
   "metadata": {},
   "outputs": [],
   "source": [
    "x=\"Hello World\""
   ]
  },
  {
   "cell_type": "code",
   "execution_count": 47,
   "id": "571c2911",
   "metadata": {},
   "outputs": [
    {
     "data": {
      "text/plain": [
       "str"
      ]
     },
     "execution_count": 47,
     "metadata": {},
     "output_type": "execute_result"
    }
   ],
   "source": [
    "type(x)"
   ]
  },
  {
   "cell_type": "code",
   "execution_count": 48,
   "id": "590d40cd",
   "metadata": {},
   "outputs": [],
   "source": [
    "y = \"yeni string\""
   ]
  },
  {
   "cell_type": "code",
   "execution_count": 49,
   "id": "8518f053",
   "metadata": {},
   "outputs": [
    {
     "data": {
      "text/plain": [
       "str"
      ]
     },
     "execution_count": 49,
     "metadata": {},
     "output_type": "execute_result"
    }
   ],
   "source": [
    "type(y)"
   ]
  },
  {
   "cell_type": "code",
   "execution_count": 50,
   "id": "946e34f8",
   "metadata": {},
   "outputs": [
    {
     "data": {
      "text/plain": [
       "\"Selim 'in Yeri\""
      ]
     },
     "execution_count": 50,
     "metadata": {},
     "output_type": "execute_result"
    }
   ],
   "source": [
    "\"Selim 'in Yeri\""
   ]
  },
  {
   "cell_type": "code",
   "execution_count": 51,
   "id": "622a67d7",
   "metadata": {},
   "outputs": [],
   "source": [
    "a = 5 "
   ]
  },
  {
   "cell_type": "code",
   "execution_count": 52,
   "id": "95afa91c",
   "metadata": {},
   "outputs": [
    {
     "data": {
      "text/plain": [
       "'Yeni string'"
      ]
     },
     "execution_count": 52,
     "metadata": {},
     "output_type": "execute_result"
    }
   ],
   "source": [
    "y.capitalize() #Büyük harfle başlar "
   ]
  },
  {
   "cell_type": "code",
   "execution_count": 53,
   "id": "a81b8097",
   "metadata": {},
   "outputs": [
    {
     "data": {
      "text/plain": [
       "'yeni string'"
      ]
     },
     "execution_count": 53,
     "metadata": {},
     "output_type": "execute_result"
    }
   ],
   "source": [
    "y"
   ]
  },
  {
   "cell_type": "code",
   "execution_count": 54,
   "id": "262ec802",
   "metadata": {},
   "outputs": [
    {
     "data": {
      "text/plain": [
       "['yeni', 'string']"
      ]
     },
     "execution_count": 54,
     "metadata": {},
     "output_type": "execute_result"
    }
   ],
   "source": [
    "y.split()"
   ]
  },
  {
   "cell_type": "code",
   "execution_count": 55,
   "id": "4927c7b5",
   "metadata": {},
   "outputs": [],
   "source": [
    "benimString = \"Selim Çınar\""
   ]
  },
  {
   "cell_type": "code",
   "execution_count": 56,
   "id": "636cbfc4",
   "metadata": {},
   "outputs": [
    {
     "data": {
      "text/plain": [
       "'Selim ÇınarSelim ÇınarSelim ÇınarSelim Çınar'"
      ]
     },
     "execution_count": 56,
     "metadata": {},
     "output_type": "execute_result"
    }
   ],
   "source": [
    "benimString * 4 #Pythona özel"
   ]
  },
  {
   "cell_type": "code",
   "execution_count": 57,
   "id": "6da74988",
   "metadata": {},
   "outputs": [
    {
     "name": "stdout",
     "output_type": "stream",
     "text": [
      "Yaşınızı Giriniz : 22\n"
     ]
    }
   ],
   "source": [
    "benimInput = input(\"Yaşınızı Giriniz : \")\n"
   ]
  },
  {
   "cell_type": "code",
   "execution_count": 58,
   "id": "ff7618f1",
   "metadata": {},
   "outputs": [
    {
     "data": {
      "text/plain": [
       "str"
      ]
     },
     "execution_count": 58,
     "metadata": {},
     "output_type": "execute_result"
    }
   ],
   "source": [
    "type(benimInput)"
   ]
  },
  {
   "cell_type": "code",
   "execution_count": 59,
   "id": "b563decb",
   "metadata": {},
   "outputs": [],
   "source": [
    "benimIntInput = int(benimInput) #string input integere dönüştü"
   ]
  },
  {
   "cell_type": "code",
   "execution_count": 60,
   "id": "29d9bc33",
   "metadata": {},
   "outputs": [
    {
     "data": {
      "text/plain": [
       "36.666666666666664"
      ]
     },
     "execution_count": 60,
     "metadata": {},
     "output_type": "execute_result"
    }
   ],
   "source": [
    "benimIntInput / 3 *5\n"
   ]
  },
  {
   "cell_type": "code",
   "execution_count": 61,
   "id": "2bb37750",
   "metadata": {},
   "outputs": [],
   "source": [
    "k = \"Çınar\""
   ]
  },
  {
   "cell_type": "code",
   "execution_count": 62,
   "id": "38c0648d",
   "metadata": {},
   "outputs": [
    {
     "data": {
      "text/plain": [
       "5"
      ]
     },
     "execution_count": 62,
     "metadata": {},
     "output_type": "execute_result"
    }
   ],
   "source": [
    "len(k) #kelime uzunluğu ölçer"
   ]
  },
  {
   "cell_type": "code",
   "execution_count": 63,
   "id": "74d345e7",
   "metadata": {},
   "outputs": [
    {
     "name": "stdout",
     "output_type": "stream",
     "text": [
      "merhaba \n",
      " Python\n"
     ]
    }
   ],
   "source": [
    "print(\"merhaba \\n Python\") # \\n satır boşluk atar \n",
    "#\\t yandan boşluk verir"
   ]
  },
  {
   "cell_type": "code",
   "execution_count": 64,
   "id": "828d3516",
   "metadata": {},
   "outputs": [],
   "source": [
    "isimString= \"Selim Çınar\""
   ]
  },
  {
   "cell_type": "code",
   "execution_count": 65,
   "id": "aae3ec03",
   "metadata": {},
   "outputs": [
    {
     "data": {
      "text/plain": [
       "'Selim Çınar'"
      ]
     },
     "execution_count": 65,
     "metadata": {},
     "output_type": "execute_result"
    }
   ],
   "source": [
    "isimString"
   ]
  },
  {
   "cell_type": "markdown",
   "id": "a3057992",
   "metadata": {},
   "source": [
    "# Index\n"
   ]
  },
  {
   "cell_type": "code",
   "execution_count": 66,
   "id": "60063bb3",
   "metadata": {},
   "outputs": [
    {
     "data": {
      "text/plain": [
       "'S'"
      ]
     },
     "execution_count": 66,
     "metadata": {},
     "output_type": "execute_result"
    }
   ],
   "source": [
    "isimString[0]"
   ]
  },
  {
   "cell_type": "code",
   "execution_count": 67,
   "id": "d2bdab20",
   "metadata": {},
   "outputs": [
    {
     "data": {
      "text/plain": [
       "'ı'"
      ]
     },
     "execution_count": 67,
     "metadata": {},
     "output_type": "execute_result"
    }
   ],
   "source": [
    "isimString[7]"
   ]
  },
  {
   "cell_type": "code",
   "execution_count": 68,
   "id": "31ac7f41",
   "metadata": {},
   "outputs": [
    {
     "data": {
      "text/plain": [
       "'m'"
      ]
     },
     "execution_count": 68,
     "metadata": {},
     "output_type": "execute_result"
    }
   ],
   "source": [
    "isimString[4]"
   ]
  },
  {
   "cell_type": "code",
   "execution_count": 69,
   "id": "36ef5745",
   "metadata": {},
   "outputs": [
    {
     "data": {
      "text/plain": [
       "'r'"
      ]
     },
     "execution_count": 69,
     "metadata": {},
     "output_type": "execute_result"
    }
   ],
   "source": [
    "isimString[10]"
   ]
  },
  {
   "cell_type": "code",
   "execution_count": 70,
   "id": "fadf4749",
   "metadata": {},
   "outputs": [
    {
     "data": {
      "text/plain": [
       "'r'"
      ]
     },
     "execution_count": 70,
     "metadata": {},
     "output_type": "execute_result"
    }
   ],
   "source": [
    "isimString[-1] #sondaki karakteri aldırır.\n"
   ]
  },
  {
   "cell_type": "code",
   "execution_count": 71,
   "id": "3a4c1539",
   "metadata": {},
   "outputs": [
    {
     "data": {
      "text/plain": [
       "'Sa'"
      ]
     },
     "execution_count": 71,
     "metadata": {},
     "output_type": "execute_result"
    }
   ],
   "source": [
    "isimString[0] + isimString[-2]"
   ]
  },
  {
   "cell_type": "code",
   "execution_count": 72,
   "id": "b022087e",
   "metadata": {},
   "outputs": [],
   "source": [
    "yeniString=\"0123456789\""
   ]
  },
  {
   "cell_type": "code",
   "execution_count": 73,
   "id": "656ab4b7",
   "metadata": {},
   "outputs": [
    {
     "data": {
      "text/plain": [
       "str"
      ]
     },
     "execution_count": 73,
     "metadata": {},
     "output_type": "execute_result"
    }
   ],
   "source": [
    "type(yeniString)"
   ]
  },
  {
   "cell_type": "code",
   "execution_count": 74,
   "id": "2706ac18",
   "metadata": {},
   "outputs": [
    {
     "data": {
      "text/plain": [
       "'23456789'"
      ]
     },
     "execution_count": 74,
     "metadata": {},
     "output_type": "execute_result"
    }
   ],
   "source": [
    "yeniString[2:]"
   ]
  },
  {
   "cell_type": "code",
   "execution_count": 75,
   "id": "f35d2ac5",
   "metadata": {},
   "outputs": [],
   "source": [
    "harfString = \"abcdefgh\""
   ]
  },
  {
   "cell_type": "code",
   "execution_count": 76,
   "id": "2affa9c9",
   "metadata": {},
   "outputs": [
    {
     "data": {
      "text/plain": [
       "'defgh'"
      ]
     },
     "execution_count": 76,
     "metadata": {},
     "output_type": "execute_result"
    }
   ],
   "source": [
    "harfString[3:]"
   ]
  },
  {
   "cell_type": "code",
   "execution_count": 77,
   "id": "6fc705ed",
   "metadata": {},
   "outputs": [
    {
     "data": {
      "text/plain": [
       "'abc'"
      ]
     },
     "execution_count": 77,
     "metadata": {},
     "output_type": "execute_result"
    }
   ],
   "source": [
    "harfString[:3]  "
   ]
  },
  {
   "cell_type": "markdown",
   "id": "d4984985",
   "metadata": {},
   "source": [
    "Slicing  [başla:burayakadargit:2'şer atla]\n"
   ]
  },
  {
   "cell_type": "code",
   "execution_count": 78,
   "id": "e4f928ba",
   "metadata": {},
   "outputs": [],
   "source": [
    "gelenVeri = \"SeliminYasi22\""
   ]
  },
  {
   "cell_type": "code",
   "execution_count": 79,
   "id": "a5ce2a74",
   "metadata": {},
   "outputs": [
    {
     "data": {
      "text/plain": [
       "'22'"
      ]
     },
     "execution_count": 79,
     "metadata": {},
     "output_type": "execute_result"
    }
   ],
   "source": [
    "gelenVeri[-2:]"
   ]
  },
  {
   "cell_type": "code",
   "execution_count": 80,
   "id": "3896e5e3",
   "metadata": {},
   "outputs": [
    {
     "data": {
      "text/plain": [
       "'li'"
      ]
     },
     "execution_count": 80,
     "metadata": {},
     "output_type": "execute_result"
    }
   ],
   "source": [
    "gelenVeri[2:4]"
   ]
  },
  {
   "cell_type": "code",
   "execution_count": 81,
   "id": "2972ae7d",
   "metadata": {},
   "outputs": [],
   "source": [
    "#StepSize BASAMAK ATLAMA"
   ]
  },
  {
   "cell_type": "code",
   "execution_count": 82,
   "id": "44ebc26a",
   "metadata": {},
   "outputs": [
    {
     "data": {
      "text/plain": [
       "'Slmnai2'"
      ]
     },
     "execution_count": 82,
     "metadata": {},
     "output_type": "execute_result"
    }
   ],
   "source": [
    "gelenVeri[::2]"
   ]
  },
  {
   "cell_type": "code",
   "execution_count": 83,
   "id": "efa6e26c",
   "metadata": {},
   "outputs": [
    {
     "data": {
      "text/plain": [
       "'emY'"
      ]
     },
     "execution_count": 83,
     "metadata": {},
     "output_type": "execute_result"
    }
   ],
   "source": [
    "gelenVeri[1:10:3]"
   ]
  },
  {
   "cell_type": "code",
   "execution_count": 84,
   "id": "09cd1d00",
   "metadata": {},
   "outputs": [
    {
     "data": {
      "text/plain": [
       "'2ianmlS'"
      ]
     },
     "execution_count": 84,
     "metadata": {},
     "output_type": "execute_result"
    }
   ],
   "source": [
    "gelenVeri[::-2]"
   ]
  },
  {
   "cell_type": "code",
   "execution_count": 85,
   "id": "56c2a190",
   "metadata": {},
   "outputs": [],
   "source": [
    "benimIsmim=\"selim\" "
   ]
  },
  {
   "cell_type": "markdown",
   "id": "3409a6e0",
   "metadata": {},
   "source": [
    "# String Metodları"
   ]
  },
  {
   "cell_type": "code",
   "execution_count": 86,
   "id": "69640ca6",
   "metadata": {},
   "outputs": [
    {
     "data": {
      "text/plain": [
       "'Selim'"
      ]
     },
     "execution_count": 86,
     "metadata": {},
     "output_type": "execute_result"
    }
   ],
   "source": [
    "benimIsmim.capitalize()"
   ]
  },
  {
   "cell_type": "code",
   "execution_count": 87,
   "id": "aa907369",
   "metadata": {},
   "outputs": [
    {
     "data": {
      "text/plain": [
       "'selim'"
      ]
     },
     "execution_count": 87,
     "metadata": {},
     "output_type": "execute_result"
    }
   ],
   "source": [
    "benimIsmim"
   ]
  },
  {
   "cell_type": "code",
   "execution_count": 88,
   "id": "fcc445c6",
   "metadata": {},
   "outputs": [],
   "source": [
    "benimYeniIsmim=benimIsmim.capitalize() #baş harfi büyük yapma"
   ]
  },
  {
   "cell_type": "code",
   "execution_count": 89,
   "id": "c5348dd9",
   "metadata": {},
   "outputs": [
    {
     "data": {
      "text/plain": [
       "'Selim'"
      ]
     },
     "execution_count": 89,
     "metadata": {},
     "output_type": "execute_result"
    }
   ],
   "source": [
    "benimYeniIsmim"
   ]
  },
  {
   "cell_type": "code",
   "execution_count": 90,
   "id": "f4a4720c",
   "metadata": {},
   "outputs": [
    {
     "data": {
      "text/plain": [
       "'selim'"
      ]
     },
     "execution_count": 90,
     "metadata": {},
     "output_type": "execute_result"
    }
   ],
   "source": [
    "benimIsmim"
   ]
  },
  {
   "cell_type": "code",
   "execution_count": 91,
   "id": "d459be61",
   "metadata": {},
   "outputs": [],
   "source": [
    "benimTamIsmim=\"Selim Çınar\""
   ]
  },
  {
   "cell_type": "code",
   "execution_count": 92,
   "id": "4a9bd43d",
   "metadata": {},
   "outputs": [
    {
     "data": {
      "text/plain": [
       "['Selim', 'Çınar']"
      ]
     },
     "execution_count": 92,
     "metadata": {},
     "output_type": "execute_result"
    }
   ],
   "source": [
    "benimTamIsmim.split() #Stringi Listeye çevirme boşluklara göre ayırma"
   ]
  },
  {
   "cell_type": "code",
   "execution_count": 93,
   "id": "60395a22",
   "metadata": {},
   "outputs": [
    {
     "data": {
      "text/plain": [
       "'SELIM ÇINAR'"
      ]
     },
     "execution_count": 93,
     "metadata": {},
     "output_type": "execute_result"
    }
   ],
   "source": [
    "benimTamIsmim.upper() #Butun cümleyi büyük harfe döndürür."
   ]
  },
  {
   "cell_type": "code",
   "execution_count": 94,
   "id": "f6e106f1",
   "metadata": {},
   "outputs": [
    {
     "data": {
      "text/plain": [
       "'selimbenim Diger Ismim'"
      ]
     },
     "execution_count": 94,
     "metadata": {},
     "output_type": "execute_result"
    }
   ],
   "source": [
    "benimIsmim + \"benim Diger Ismim\""
   ]
  },
  {
   "cell_type": "code",
   "execution_count": 95,
   "id": "811d9dab",
   "metadata": {},
   "outputs": [
    {
     "data": {
      "text/plain": [
       "'selimdır'"
      ]
     },
     "execution_count": 95,
     "metadata": {},
     "output_type": "execute_result"
    }
   ],
   "source": [
    "benimIsmim + \"dir\" "
   ]
  },
  {
   "cell_type": "code",
   "execution_count": 96,
   "id": "6169f9d6",
   "metadata": {},
   "outputs": [],
   "source": [
    "benimSoyismim = \"Çınar\""
   ]
  },
  {
   "cell_type": "code",
   "execution_count": 97,
   "id": "af3daf34",
   "metadata": {},
   "outputs": [
    {
     "data": {
      "text/plain": [
       "'selim Çınar'"
      ]
     },
     "execution_count": 97,
     "metadata": {},
     "output_type": "execute_result"
    }
   ],
   "source": [
    "benimIsmim + \" \" +benimSoyismim"
   ]
  },
  {
   "cell_type": "code",
   "execution_count": 98,
   "id": "3cacf678",
   "metadata": {},
   "outputs": [
    {
     "data": {
      "text/plain": [
       "'510'"
      ]
     },
     "execution_count": 98,
     "metadata": {},
     "output_type": "execute_result"
    }
   ],
   "source": [
    "j=\"5\"\n",
    "k=\"10\"\n",
    "j+k"
   ]
  },
  {
   "cell_type": "code",
   "execution_count": null,
   "id": "98100ec2",
   "metadata": {},
   "outputs": [],
   "source": []
  }
 ],
 "metadata": {
  "kernelspec": {
   "display_name": "Python 3 (ipykernel)",
   "language": "python",
   "name": "python3"
  },
  "language_info": {
   "codemirror_mode": {
    "name": "ipython",
    "version": 3
   },
   "file_extension": ".py",
   "mimetype": "text/x-python",
   "name": "python",
   "nbconvert_exporter": "python",
   "pygments_lexer": "ipython3",
   "version": "3.9.12"
  }
 },
 "nbformat": 4,
 "nbformat_minor": 5
}
